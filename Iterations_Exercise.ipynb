{
 "cells": [
  {
   "cell_type": "code",
   "execution_count": 6,
   "id": "1da8fdab",
   "metadata": {},
   "outputs": [
    {
     "name": "stdout",
     "output_type": "stream",
     "text": [
      "10\n",
      "11\n",
      "12\n",
      "13\n",
      "14\n",
      "15\n",
      "16\n",
      "17\n",
      "18\n",
      "19\n",
      "20\n",
      "21\n",
      "22\n",
      "23\n",
      "24\n",
      "25\n",
      "26\n",
      "27\n",
      "28\n",
      "29\n",
      "30\n"
     ]
    }
   ],
   "source": [
    "for i in range(10, 31):\n",
    "    print(i)"
   ]
  },
  {
   "cell_type": "code",
   "execution_count": null,
   "id": "a7c08e4d",
   "metadata": {},
   "outputs": [],
   "source": [
    "# 1.1 Also write a code to print those numbers in steps of 3"
   ]
  },
  {
   "cell_type": "code",
   "execution_count": 7,
   "id": "4d4b025d",
   "metadata": {},
   "outputs": [
    {
     "name": "stdout",
     "output_type": "stream",
     "text": [
      "10\n",
      "13\n",
      "16\n",
      "19\n",
      "22\n",
      "25\n",
      "28\n"
     ]
    }
   ],
   "source": [
    "for b in range(10,31,3):\n",
    "    print(b)"
   ]
  },
  {
   "cell_type": "code",
   "execution_count": null,
   "id": "fb21afec",
   "metadata": {},
   "outputs": [],
   "source": [
    "#1.2 Update the previous code to print all the numbers from 10 to 30 that are multiples of 5. (These are: 5,10, 15,...)"
   ]
  },
  {
   "cell_type": "code",
   "execution_count": 8,
   "id": "5aadcd6c",
   "metadata": {},
   "outputs": [
    {
     "name": "stdout",
     "output_type": "stream",
     "text": [
      "10\n",
      "15\n",
      "20\n",
      "25\n",
      "30\n"
     ]
    }
   ],
   "source": [
    "for b in range (10,31,5):\n",
    "    print(b)"
   ]
  },
  {
   "cell_type": "code",
   "execution_count": null,
   "id": "021c9a58",
   "metadata": {},
   "outputs": [],
   "source": [
    "#1.3 Write a code to print this pattern. Modify the print statement in the dummy code provided:"
   ]
  },
  {
   "cell_type": "code",
   "execution_count": 16,
   "id": "1292a497",
   "metadata": {},
   "outputs": [
    {
     "name": "stdout",
     "output_type": "stream",
     "text": [
      "***\n",
      "***\n"
     ]
    }
   ],
   "source": [
    "for i in range (1,3):\n",
    "    if i==1: \n",
    "        print(\"***\")\n",
    "    else:\n",
    "        if i==2:\n",
    "            print(\"***\")\n",
    "        else:\n",
    "            if i==3:\n",
    "                print(\"***\")\n",
    "            else:\n",
    "                print(\"\")\n",
    "            "
   ]
  },
  {
   "cell_type": "code",
   "execution_count": null,
   "id": "477c4464",
   "metadata": {},
   "outputs": [],
   "source": [
    "#1.4 Update the previous code to print the following pattern:"
   ]
  },
  {
   "cell_type": "code",
   "execution_count": 17,
   "id": "635d0014",
   "metadata": {},
   "outputs": [
    {
     "name": "stdout",
     "output_type": "stream",
     "text": [
      "****\n",
      "****\n"
     ]
    }
   ],
   "source": [
    "for i in range (1,3):\n",
    "    if i==1: \n",
    "        print(\"****\")\n",
    "    else:\n",
    "        if i==2:\n",
    "            print(\"****\")\n",
    "        else:\n",
    "            if i==3:\n",
    "                print(\"***\")\n",
    "            else:\n",
    "                print(\"\")"
   ]
  },
  {
   "cell_type": "code",
   "execution_count": null,
   "id": "b96f41f8",
   "metadata": {},
   "outputs": [],
   "source": [
    "#1.5 Take a positive integer input from the user. Find the factorial of that number."
   ]
  },
  {
   "cell_type": "code",
   "execution_count": 1,
   "id": "86884106",
   "metadata": {},
   "outputs": [],
   "source": [
    "import math"
   ]
  },
  {
   "cell_type": "code",
   "execution_count": 2,
   "id": "f914c456",
   "metadata": {},
   "outputs": [
    {
     "data": {
      "text/plain": [
       "120"
      ]
     },
     "execution_count": 2,
     "metadata": {},
     "output_type": "execute_result"
    }
   ],
   "source": [
    "math.factorial (5)"
   ]
  },
  {
   "cell_type": "code",
   "execution_count": 33,
   "id": "6adb4fce",
   "metadata": {},
   "outputs": [
    {
     "name": "stdout",
     "output_type": "stream",
     "text": [
      "Introduce un número entero: 5\n",
      "120\n"
     ]
    }
   ],
   "source": [
    "def factorial(*n):\n",
    "    for x in n:\n",
    "        fact = 1\n",
    "        for y in range(1, x + 1):\n",
    "            fact *= y \n",
    "        print(fact)\n",
    "factorial (int(input(\"Introduce un número entero: \")))"
   ]
  },
  {
   "cell_type": "code",
   "execution_count": null,
   "id": "5effc532",
   "metadata": {},
   "outputs": [],
   "source": [
    "#2.1  Iterations on lists"
   ]
  },
  {
   "cell_type": "code",
   "execution_count": 51,
   "id": "0b369f7a",
   "metadata": {},
   "outputs": [
    {
     "name": "stdout",
     "output_type": "stream",
     "text": [
      "los mulitplos de 3 son:  [12, 6, 12, 93, 783, 330]\n"
     ]
    }
   ],
   "source": [
    "x = [12,43,4,1,6,343,10, 34, 12, 93, 783, 330, 896, 1, 55]\n",
    "def multiple(x,multiple):\n",
    "    return True if x % multiple == 0 else False\n",
    "multiples_3=[]\n",
    "for i in x:\n",
    "    if multiple(i, 3):\n",
    "        multiples_3.append(i)\n",
    "print(\"los mulitplos de 3 son: \", multiples_3)\n"
   ]
  },
  {
   "cell_type": "code",
   "execution_count": 52,
   "id": "7d04a8bd",
   "metadata": {},
   "outputs": [
    {
     "name": "stdout",
     "output_type": "stream",
     "text": [
      "[12, 43, 4, 1, 6, 343, 10, 34, 12, 93, 783, 330, 896, 1, 55]\n"
     ]
    }
   ],
   "source": [
    "print(x)"
   ]
  },
  {
   "cell_type": "code",
   "execution_count": 53,
   "id": "54adb303",
   "metadata": {},
   "outputs": [
    {
     "data": {
      "text/plain": [
       "1"
      ]
     },
     "execution_count": 53,
     "metadata": {},
     "output_type": "execute_result"
    }
   ],
   "source": [
    "min(x)"
   ]
  },
  {
   "cell_type": "code",
   "execution_count": 54,
   "id": "06dc8e3e",
   "metadata": {},
   "outputs": [
    {
     "data": {
      "text/plain": [
       "896"
      ]
     },
     "execution_count": 54,
     "metadata": {},
     "output_type": "execute_result"
    }
   ],
   "source": [
    "max(x)"
   ]
  },
  {
   "cell_type": "code",
   "execution_count": null,
   "id": "f9e78427",
   "metadata": {},
   "outputs": [],
   "source": [
    "#Iterations on dictionary"
   ]
  },
  {
   "cell_type": "code",
   "execution_count": 55,
   "id": "9c2a6a19",
   "metadata": {},
   "outputs": [
    {
     "data": {
      "text/plain": [
       "dict_values([25, 1, 6, 1, 1, 1, 1, 11, 1, 1, 1, 1, 3, 14, 1, 16, 2, 1, 2, 1, 1, 3, 2])"
      ]
     },
     "execution_count": 55,
     "metadata": {},
     "output_type": "execute_result"
    }
   ],
   "source": [
    " word_freq = {'love': 25, 'conversation': 1, 'every': 6, \"we're\": 1, 'plate': 1, 'sour': 1, 'jukebox': 1, 'now': 11, 'taxi': 1, 'fast': 1, 'bag': 1, 'man': 1, 'push': 3, 'baby': 14, 'going': 1, 'you': 16, \"don't\": 2, 'one': 1, 'mind': 2, 'backseat': 1, 'friends': 1, 'then': 3, 'know': 2}\n",
    "word_freq.values()"
   ]
  },
  {
   "cell_type": "code",
   "execution_count": 60,
   "id": "a38cc4c6",
   "metadata": {},
   "outputs": [
    {
     "data": {
      "text/plain": [
       "dict_keys(['love', 'conversation', 'every', \"we're\", 'plate', 'sour', 'jukebox', 'now', 'taxi', 'fast', 'bag', 'man', 'push', 'baby', 'going', 'you', \"don't\", 'one', 'mind', 'backseat', 'friends', 'then', 'know'])"
      ]
     },
     "execution_count": 60,
     "metadata": {},
     "output_type": "execute_result"
    }
   ],
   "source": [
    "word_freq.keys()"
   ]
  },
  {
   "cell_type": "code",
   "execution_count": 61,
   "id": "90997118",
   "metadata": {},
   "outputs": [
    {
     "data": {
      "text/plain": [
       "dict_items([('love', 25), ('conversation', 1), ('every', 6), (\"we're\", 1), ('plate', 1), ('sour', 1), ('jukebox', 1), ('now', 11), ('taxi', 1), ('fast', 1), ('bag', 1), ('man', 1), ('push', 3), ('baby', 14), ('going', 1), ('you', 16), (\"don't\", 2), ('one', 1), ('mind', 2), ('backseat', 1), ('friends', 1), ('then', 3), ('know', 2)])"
      ]
     },
     "execution_count": 61,
     "metadata": {},
     "output_type": "execute_result"
    }
   ],
   "source": [
    "word_freq.items()"
   ]
  },
  {
   "cell_type": "code",
   "execution_count": 63,
   "id": "50f47063",
   "metadata": {},
   "outputs": [
    {
     "name": "stdout",
     "output_type": "stream",
     "text": [
      "For  love  the value is:  25\n",
      "For  conversation  the value is:  1\n",
      "For  every  the value is:  6\n",
      "For  we're  the value is:  1\n",
      "For  plate  the value is:  1\n",
      "For  sour  the value is:  1\n",
      "For  jukebox  the value is:  1\n",
      "For  now  the value is:  11\n",
      "For  taxi  the value is:  1\n",
      "For  fast  the value is:  1\n",
      "For  bag  the value is:  1\n",
      "For  man  the value is:  1\n",
      "For  push  the value is:  3\n",
      "For  baby  the value is:  14\n",
      "For  going  the value is:  1\n",
      "For  you  the value is:  16\n",
      "For  don't  the value is:  2\n",
      "For  one  the value is:  1\n",
      "For  mind  the value is:  2\n",
      "For  backseat  the value is:  1\n",
      "For  friends  the value is:  1\n",
      "For  then  the value is:  3\n",
      "For  know  the value is:  2\n"
     ]
    }
   ],
   "source": [
    "for tumbutu, value in word_freq.items():\n",
    "    print(\"For \", tumbutu, \" the value is: \", value)"
   ]
  },
  {
   "cell_type": "code",
   "execution_count": 66,
   "id": "edfccec3",
   "metadata": {},
   "outputs": [
    {
     "name": "stdout",
     "output_type": "stream",
     "text": [
      "conversation\n",
      "we're\n",
      "plate\n",
      "sour\n",
      "jukebox\n",
      "taxi\n",
      "fast\n",
      "bag\n",
      "man\n",
      "going\n",
      "don't\n",
      "one\n",
      "mind\n",
      "backseat\n",
      "friends\n",
      "know\n"
     ]
    }
   ],
   "source": [
    "for word, freq in word_freq.items():\n",
    "    if freq < 3:\n",
    "        print(word)"
   ]
  },
  {
   "cell_type": "code",
   "execution_count": 67,
   "id": "0f269fb2",
   "metadata": {},
   "outputs": [
    {
     "name": "stdout",
     "output_type": "stream",
     "text": [
      "love\n"
     ]
    }
   ],
   "source": [
    "for word, freq in word_freq.items():\n",
    "    if freq == max(word_freq.values()):\n",
    "        print(word)"
   ]
  },
  {
   "cell_type": "code",
   "execution_count": null,
   "id": "198c2530",
   "metadata": {},
   "outputs": [],
   "source": [
    "# Snail and well"
   ]
  }
 ],
 "metadata": {
  "kernelspec": {
   "display_name": "Python 3",
   "language": "python",
   "name": "python3"
  },
  "language_info": {
   "codemirror_mode": {
    "name": "ipython",
    "version": 3
   },
   "file_extension": ".py",
   "mimetype": "text/x-python",
   "name": "python",
   "nbconvert_exporter": "python",
   "pygments_lexer": "ipython3",
   "version": "3.8.8"
  }
 },
 "nbformat": 4,
 "nbformat_minor": 5
}
